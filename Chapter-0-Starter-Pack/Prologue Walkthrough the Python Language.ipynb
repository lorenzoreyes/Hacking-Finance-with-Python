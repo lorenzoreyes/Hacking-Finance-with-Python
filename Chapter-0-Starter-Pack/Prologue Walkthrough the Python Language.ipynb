{
 "cells": [
  {
   "cell_type": "markdown",
   "metadata": {},
   "source": [
    "# Caminata Python \n",
    "\n",
    "0. Características de Python.\n",
    "1. Tipos de Datos.\n",
    "2. Operadores Basicos.\n",
    "3. Ejecución Condicional. Mención a Loops e Iteraciones. \n",
    "4. Funciones.\n",
    "5. Objetos.\n",
    "6. Estructura de Datos. Listas, Diccionarios y Tuplas.\n",
    "7. Lo demás es seguir practicando."
   ]
  },
  {
   "cell_type": "markdown",
   "metadata": {},
   "source": [
    "### Características de Python como lenguaje:\n",
    "#### Es de propósito general => Puede ser usado para muchos campos, siendo idóneo para el análisis de datos\n",
    "#### Es un lenguaje interpretado => Esta escrito en C, siendo un interfaz práctico de este lenguaje\n",
    "#### Es interpretativo => nos permite probar nuestro código linea por linea sin necesidad de compilar cada cambio\n",
    "#### Python es un lenguaje de alto nivel ==> implica un nivel de abstracción que nosotros \n",
    "#### escribimos en un nivel que entendemos y no tan bajo como hablar en binario a la maquina\n",
    "#### Es un Lenguaje Orientado a Objetos ==> cada variable en Python es un objeto y como tal \n",
    "#### es una estructura de datos, con la que podemos utilizar sus funciones o agregar nuevas\n"
   ]
  },
  {
   "cell_type": "code",
   "execution_count": 8,
   "metadata": {},
   "outputs": [
    {
     "data": {
      "text/plain": [
       "('texto', 2, 3.14)"
      ]
     },
     "execution_count": 8,
     "metadata": {},
     "output_type": "execute_result"
    }
   ],
   "source": [
    "# esto es un comentario, una anotación que sirve a futuro para aclarar aglo en el código error a ver si leen.\n",
    "\n",
    "# tipos de datos de Python\n",
    "\n",
    "\"texto\", 2, 3.14"
   ]
  },
  {
   "cell_type": "markdown",
   "metadata": {},
   "source": [
    "#### Sí le damos los datos así a Python, el prompt simplemente por defecto los va a imprimir\n",
    "#### y tales datos no quedan asignados bajo una variable cuyo nombre utilizaremos para usarlos"
   ]
  },
  {
   "cell_type": "code",
   "execution_count": 9,
   "metadata": {},
   "outputs": [],
   "source": [
    "'''Esto tambien es un comentario, \n",
    "multilinea\n",
    "para marcar una zona que el lenguaje va a ignorar\n",
    "\n",
    "Ahora creamos nombres y guardamos los datos de las variables'''\n",
    "texto = \"this is a string\"\n",
    "numero = 2\n",
    "numero_pi = 3.141592"
   ]
  },
  {
   "cell_type": "markdown",
   "metadata": {},
   "source": [
    "# Preguntamos que tipo de Dato son con el keyword \"type\""
   ]
  },
  {
   "cell_type": "code",
   "execution_count": 7,
   "metadata": {},
   "outputs": [
    {
     "data": {
      "text/plain": [
       "(str, int, float)"
      ]
     },
     "execution_count": 7,
     "metadata": {},
     "output_type": "execute_result"
    }
   ],
   "source": [
    "type(texto),type(numero),type(numero_pi)"
   ]
  },
  {
   "cell_type": "markdown",
   "metadata": {},
   "source": [
    "# Los imprimimos con \"print\""
   ]
  },
  {
   "cell_type": "code",
   "execution_count": 10,
   "metadata": {},
   "outputs": [
    {
     "name": "stdout",
     "output_type": "stream",
     "text": [
      "this is a string 2 3.141592\n"
     ]
    }
   ],
   "source": [
    "print(texto,numero,numero_pi)"
   ]
  },
  {
   "cell_type": "markdown",
   "metadata": {},
   "source": [
    "#### Pasamos las Variables a una [lista] y la iteeramos con un for loop\n",
    "#### para que haga una serie de acciones sobre algo que le pedimos trabajar\n",
    "#### en este caso preguntarle la variable dentro de la lista, imprimirla y ver sus builtin functions"
   ]
  },
  {
   "cell_type": "code",
   "execution_count": 4,
   "metadata": {},
   "outputs": [
    {
     "name": "stdout",
     "output_type": "stream",
     "text": [
      "La variable de la lista es  this is a string \n",
      "y sus builtin functions son ['__add__', '__class__', '__contains__', '__delattr__', '__dir__', '__doc__', '__eq__', '__format__', '__ge__', '__getattribute__', '__getitem__', '__getnewargs__', '__gt__', '__hash__', '__init__', '__init_subclass__', '__iter__', '__le__', '__len__', '__lt__', '__mod__', '__mul__', '__ne__', '__new__', '__reduce__', '__reduce_ex__', '__repr__', '__rmod__', '__rmul__', '__setattr__', '__sizeof__', '__str__', '__subclasshook__', 'capitalize', 'casefold', 'center', 'count', 'encode', 'endswith', 'expandtabs', 'find', 'format', 'format_map', 'index', 'isalnum', 'isalpha', 'isascii', 'isdecimal', 'isdigit', 'isidentifier', 'islower', 'isnumeric', 'isprintable', 'isspace', 'istitle', 'isupper', 'join', 'ljust', 'lower', 'lstrip', 'maketrans', 'partition', 'removeprefix', 'removesuffix', 'replace', 'rfind', 'rindex', 'rjust', 'rpartition', 'rsplit', 'rstrip', 'split', 'splitlines', 'startswith', 'strip', 'swapcase', 'title', 'translate', 'upper', 'zfill']\n",
      "La variable de la lista es  2 \n",
      "y sus builtin functions son ['__abs__', '__add__', '__and__', '__bool__', '__ceil__', '__class__', '__delattr__', '__dir__', '__divmod__', '__doc__', '__eq__', '__float__', '__floor__', '__floordiv__', '__format__', '__ge__', '__getattribute__', '__getnewargs__', '__gt__', '__hash__', '__index__', '__init__', '__init_subclass__', '__int__', '__invert__', '__le__', '__lshift__', '__lt__', '__mod__', '__mul__', '__ne__', '__neg__', '__new__', '__or__', '__pos__', '__pow__', '__radd__', '__rand__', '__rdivmod__', '__reduce__', '__reduce_ex__', '__repr__', '__rfloordiv__', '__rlshift__', '__rmod__', '__rmul__', '__ror__', '__round__', '__rpow__', '__rrshift__', '__rshift__', '__rsub__', '__rtruediv__', '__rxor__', '__setattr__', '__sizeof__', '__str__', '__sub__', '__subclasshook__', '__truediv__', '__trunc__', '__xor__', 'as_integer_ratio', 'bit_length', 'conjugate', 'denominator', 'from_bytes', 'imag', 'numerator', 'real', 'to_bytes']\n",
      "La variable de la lista es  3.141592 \n",
      "y sus builtin functions son ['__abs__', '__add__', '__bool__', '__ceil__', '__class__', '__delattr__', '__dir__', '__divmod__', '__doc__', '__eq__', '__float__', '__floor__', '__floordiv__', '__format__', '__ge__', '__getattribute__', '__getformat__', '__getnewargs__', '__gt__', '__hash__', '__init__', '__init_subclass__', '__int__', '__le__', '__lt__', '__mod__', '__mul__', '__ne__', '__neg__', '__new__', '__pos__', '__pow__', '__radd__', '__rdivmod__', '__reduce__', '__reduce_ex__', '__repr__', '__rfloordiv__', '__rmod__', '__rmul__', '__round__', '__rpow__', '__rsub__', '__rtruediv__', '__setattr__', '__setformat__', '__sizeof__', '__str__', '__sub__', '__subclasshook__', '__truediv__', '__trunc__', 'as_integer_ratio', 'conjugate', 'fromhex', 'hex', 'imag', 'is_integer', 'real']\n"
     ]
    }
   ],
   "source": [
    "lista = [texto,numero,numero_pi]\n",
    "\n",
    "for i in range(len(lista)):\n",
    "    print(\"La variable de la lista es \",lista[i], \"\\ny sus builtin functions son\", dir(lista[i]))"
   ]
  },
  {
   "cell_type": "markdown",
   "metadata": {},
   "source": [
    "# Operadores Basicos\n",
    "\n",
    "# Creamos variables a y b iguales a 2 y 4\n",
    "\n",
    "##### a, b = 2, 4\n",
    "##### Suma           => a +  b\n",
    "##### Resta          => a -  b\n",
    "##### Multiplicar    => a *  b\n",
    "##### División       => a /  b \n",
    "##### Modulo         => a % b\n",
    "##### Exponencial    => a ** b\n",
    "##### Raiz Cuadrada  => a ** 1/b  # *si, asi de facil, es matematica*\n",
    "\n",
    "###### -------------------------------------------------------------------\n",
    "###### -------------------------------------------------------------------\n",
    "\n",
    "# Operadores Lógicos. Usados para comparar datos \n",
    "# la respuesta sera booleana (verdadero o falso)\n",
    "##### Igualdad, a == b, *sí a es igual a b nos va a devolver un True, sino un False*\n",
    "##### Distinto, a != b,\n",
    "##### Mayor, a > b\n",
    "##### Menor, a < b\n",
    "##### Mayor igual, a >= b\n",
    "##### Menor igual, a <= b\n"
   ]
  },
  {
   "cell_type": "markdown",
   "metadata": {},
   "source": [
    "# Ejecución Condicional"
   ]
  },
  {
   "cell_type": "code",
   "execution_count": 12,
   "metadata": {},
   "outputs": [
    {
     "name": "stdout",
     "output_type": "stream",
     "text": [
      "El valor de i menor a 3 y es:  0\n",
      "El valor de i menor a 3 y es:  1\n",
      "El valor de i menor a 3 y es:  2\n",
      "i esta entre el rango de 3 y 8\n",
      "i esta entre el rango de 3 y 8\n",
      "i esta entre el rango de 3 y 8\n",
      "i esta entre el rango de 3 y 8\n",
      "i esta entre el rango de 3 y 8\n",
      "8 al cuadrado es 64\n",
      "9 al cuadrado es 81\n"
     ]
    }
   ],
   "source": [
    "'''Vamos a ejecutar una secuencia del rango de 0 al 9\n",
    "creamos condiciones, (if) como primaria, (elif) como secundaria, y else para los demas casos'''\n",
    "\n",
    "for i in range(10):\n",
    "    if i < 3:\n",
    "        print('El valor de i menor a 3 y es: ', i) # comillas simples\n",
    "    elif i >=3 and i < 8:\n",
    "        print(\"i esta entre el rango de 3 y 8\") # notar print doble comillas\n",
    "    else:\n",
    "        print(f\"{i} al cuadrado es {i**2}\") #uso de print.format, {entre} va el nombre de variable a tratar\n",
    "        "
   ]
  },
  {
   "cell_type": "markdown",
   "metadata": {},
   "source": [
    "# Funciones\n",
    "### nos permite encapsular un bloque de codigo, que realizara cada vez que lo utilicemos\n",
    "### y nos devolvera lo que le pedimos al final, con la palabra clave \"return\"\n",
    "### Nos permite reutilizar nuestro codigo sin repetirnos"
   ]
  },
  {
   "cell_type": "code",
   "execution_count": 15,
   "metadata": {},
   "outputs": [],
   "source": [
    "# Funcion de Fibonacci\n",
    "\n",
    "def fibonnaci(n):\n",
    "    '''Documentamos que hace la función. Ejecución de la secuencia de Fibonacci'''\n",
    "    # Chequeamos que el número sea positivo\n",
    "    a,b = 0,1\n",
    "    if n < 0:\n",
    "        return \"No hay Fibonacci de números negativos. Intenta de nuevo\"\n",
    "    elif n == 1:\n",
    "        return 1\n",
    "    else:\n",
    "        for i in range(1,n): # Secuencia Fibonacci\n",
    "            c = a + b\n",
    "            a = b\n",
    "            b = c   \n",
    "        return b"
   ]
  },
  {
   "cell_type": "code",
   "execution_count": 16,
   "metadata": {},
   "outputs": [
    {
     "data": {
      "text/plain": [
       "34"
      ]
     },
     "execution_count": 16,
     "metadata": {},
     "output_type": "execute_result"
    }
   ],
   "source": [
    "# lo usamos\n",
    "\n",
    "fibonnaci(9)"
   ]
  },
  {
   "cell_type": "code",
   "execution_count": 18,
   "metadata": {},
   "outputs": [
    {
     "data": {
      "text/plain": [
       "('No hay Fibonacci de números negativos. Intenta de nuevo', 1, 832040)"
      ]
     },
     "execution_count": 18,
     "metadata": {},
     "output_type": "execute_result"
    }
   ],
   "source": [
    "# Reutilizamos\n",
    "fibonnaci(-1), fibonnaci(1), fibonnaci(30)"
   ]
  },
  {
   "cell_type": "code",
   "execution_count": 19,
   "metadata": {},
   "outputs": [
    {
     "data": {
      "text/plain": [
       "55"
      ]
     },
     "execution_count": 19,
     "metadata": {},
     "output_type": "execute_result"
    }
   ],
   "source": [
    "fibonnaci(10)"
   ]
  },
  {
   "cell_type": "markdown",
   "metadata": {},
   "source": [
    "# Estructuras de Datos\n",
    "\n",
    "# [Lists], {Dictionaries} y (tuples)\n",
    "\n"
   ]
  },
  {
   "cell_type": "markdown",
   "metadata": {},
   "source": [
    "# Nos permiten almacenar información de distintas formas\n",
    "\n"
   ]
  }
 ],
 "metadata": {
  "kernelspec": {
   "display_name": "Python 3 (ipykernel)",
   "language": "python",
   "name": "python3"
  },
  "language_info": {
   "codemirror_mode": {
    "name": "ipython",
    "version": 3
   },
   "file_extension": ".py",
   "mimetype": "text/x-python",
   "name": "python",
   "nbconvert_exporter": "python",
   "pygments_lexer": "ipython3",
   "version": "3.11.4"
  },
  "vscode": {
   "interpreter": {
    "hash": "220f1ee985561bbe10475f2e98f93cb1078a5d43d8a61b38cc246abb759fe5d0"
   }
  }
 },
 "nbformat": 4,
 "nbformat_minor": 2
}
