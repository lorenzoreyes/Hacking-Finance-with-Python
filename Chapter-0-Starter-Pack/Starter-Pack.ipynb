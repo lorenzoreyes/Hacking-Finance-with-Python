{
 "cells": [
  {
   "cell_type": "markdown",
   "metadata": {},
   "source": [
    "# Hacking-Finance-with-Python\n",
    "## Difficulty Level: Argentina Gaucho "
   ]
  },
  {
   "cell_type": "raw",
   "metadata": {},
   "source": [
    "In this document you will have a glance of what is it to live in Argentina and why finance matters.\n",
    "I address the conditions of the country, summarised them into the perspective of the rule of thumb, that is numbers, if it is green or red in order to go on or not to make business. But, sometimes, if not the vast majority, we tend to gather too many metrics, we will sum them up in a priority and know what thing is the value that are telling us, differentiate what we are comparing, because eventhough we can resume something into a number at the end its not only numbers, but the process as well.\n",
    "\n",
    "First of all, if we are in Argentina we have to get prepared properly, prepare some Mate and I will tell you what are the gaucho constraints of this book.\n",
    "As Python is a free and open source language, I want to honor that and I crafted this book with those constraints, I do not demand any kind of payment from the reader or provide exclusive software, the content of this book is educational and with the purpose to challenge you to gain not only knowledge of the topic but also own the concept to be able to change it under your specific need. The main disclaimer the reader should be aware of is that, this book, as any educational content, is not a magic book that will solve all your solutions, but will be a source to craft it. \n",
    "\n",
    "Talking about numbers. What we mean when we refer to finance? a common response will be any kind of task that involves doing some math and statistical calculus, but that answer its fair to say its tell us nothing. Finance, in essence, is the process to value something, with numbers yes, in order not only to know how much something is worhty, but also to compare it in context and to know if we are doing a good or bad decision. In a real life case, suppose we manage a grocery store, where money comes and go in a flow as items are purchased, in that perspective to me money will only perceive the movement of the items, but with finance I can be aware when I sell something will I be able to buy back that item and have a margin from the sale, a profit, in order to re start the business flow and still have a business or not. That is the rule of thumb in finance, know what we are doing and, in context, be aware if we are doing a good decision. \n",
    "\n",
    "Why Python? as I already stated the language is free an open source, but also as Guido van Rossum aimed Python is a perfect tool to perform mathematical operations, where the user can state any formula as it is without losing comprehension of what they are doing. In other languages, such as C++ or Java, we can do the same but we have to take care of little details that for the purpose of w hat we want to achieve misleads us from the goal we target. And, we address the commong question of why just not use Microsoft Excel to do this kind of job? well, by the end of the book you will know why it is a dumb question that one.\n",
    "\n",
    "In this document I attempt to give you a journey, to go through what I had to deal with as a financial developer in Argentina, how to make a program that help us diagnose the conditions of a market and make business decisions for us, knowing the difference between choosing a solution by hunch and from a system that goes through a series of steps to check proper action."
   ]
  },
  {
   "cell_type": "markdown",
   "metadata": {},
   "source": [
    "# The Value of Time or the Opportunity Cost of Capital"
   ]
  },
  {
   "cell_type": "markdown",
   "metadata": {},
   "source": [
    "Finance can have many definition, a discipline that manage one resource that manages the rest, money. By definition, money is a medium that enables us to exchange it for goods and services that we desire or need, those trades are measured with money generating prices, nontheless a critical requisite is that the medium itself must be a store of value (tricky part in Argentina). Once we know what is the price of everything we have to manage our money under the principal constraint, time. As we analyze a business project, the investment takes a period of time to first to set up and then generate a cashflow or value, for example a house. So, we have to be aware of the inflows and  outflows of money to manage properly our resources and in proper time in order to assure a target.\n",
    "\n",
    "Another way to view the same is that finance can be the skill of how to value anything, which its partly truth, beacuse you have to know the value of something compared in a context, in order to know if you are taking am optimal decision or not. This statement can be summarized in a concept, the opportunity cost of capital, that captures the essence of finance because an investor should only invest in an option if thet return promised is superior to the all other available options that are discarded when choosing an investment. Therefore, you must know the context of your opportunities in order to proceed, this applies to any business decision such as choosing a payment method, what set of stocks to invest in, what type of bonds should I prefer and even what type of position should I have depending the futures market condition on a commodity that my business depend on.\n"
   ]
  },
  {
   "cell_type": "markdown",
   "metadata": {},
   "source": [
    "# Getting around the number, doing the accounts\n",
    "\n",
    "### We gather proper information related to the current market in Argentina, of how to invest our Pesos in order to preserve them in time and  if possible increaase them. \n",
    "\n",
    "### To answer this we can  break it down into different aspects to diagnose the market conditions for the last 10 years we are such as:\n",
    "#   How it did performed the Peso against the dollar (ARS/USD).\n",
    "#   There are specific market regulations to take into account?\n",
    "#   How did performed stock exchange, what is the credit profound, can I invest in different market sectos to have a diversified portfolio?\n",
    "#   What can tell us the futures contracts?\n"
   ]
  },
  {
   "cell_type": "markdown",
   "metadata": {},
   "source": [
    "### Características de Python como lenguaje:\n",
    "#### Es de propósito general => Puede ser usado para muchos campos, siendo idóneo para el análisis de datos\n",
    "#### Es un lenguaje interpretado => Esta escrito en C, siendo un interfaz práctico de este lenguaje\n",
    "#### Es interpretativo => nos permite probar nuestro código linea por linea sin necesidad de compilar cada cambio\n",
    "#### Python es un lenguaje de alto nivel ==> implica un nivel de abstracción que nosotros \n",
    "#### escribimos en un nivel que entendemos y no tan bajo como hablar en binario a la maquina\n",
    "#### Es un Lenguaje Orientado a Objetos ==> cada variable en Python es un objeto y como tal \n",
    "#### es una estructura de datos, con la que podemos utilizar sus funciones o agregar nuevas\n"
   ]
  },
  {
   "cell_type": "code",
   "execution_count": 8,
   "metadata": {},
   "outputs": [
    {
     "data": {
      "text/plain": [
       "('texto', 2, 3.14)"
      ]
     },
     "execution_count": 8,
     "metadata": {},
     "output_type": "execute_result"
    }
   ],
   "source": [
    "# esto es un comentario, una anotación que sirve a futuro para aclarar aglo en el código error a ver si leen.\n",
    "\n",
    "# tipos de datos de Python\n",
    "\n",
    "\"texto\", 2, 3.14"
   ]
  },
  {
   "cell_type": "markdown",
   "metadata": {},
   "source": [
    "#### Sí le damos los datos así a Python, el prompt simplemente por defecto los va a imprimir\n",
    "#### y tales datos no quedan asignados bajo una variable cuyo nombre utilizaremos para usarlos"
   ]
  },
  {
   "cell_type": "code",
   "execution_count": 9,
   "metadata": {},
   "outputs": [],
   "source": [
    "'''Esto tambien es un comentario, \n",
    "multilinea\n",
    "para marcar una zona que el lenguaje va a ignorar\n",
    "\n",
    "Ahora creamos nombres y guardamos los datos de las variables'''\n",
    "texto = \"this is a string\"\n",
    "numero = 2\n",
    "numero_pi = 3.141592"
   ]
  },
  {
   "cell_type": "markdown",
   "metadata": {},
   "source": [
    "# Preguntamos que tipo de Dato son con el keyword \"type\""
   ]
  },
  {
   "cell_type": "code",
   "execution_count": 7,
   "metadata": {},
   "outputs": [
    {
     "data": {
      "text/plain": [
       "(str, int, float)"
      ]
     },
     "execution_count": 7,
     "metadata": {},
     "output_type": "execute_result"
    }
   ],
   "source": [
    "type(texto),type(numero),type(numero_pi)"
   ]
  },
  {
   "cell_type": "markdown",
   "metadata": {},
   "source": [
    "# Los imprimimos con \"print\""
   ]
  },
  {
   "cell_type": "code",
   "execution_count": 10,
   "metadata": {},
   "outputs": [
    {
     "name": "stdout",
     "output_type": "stream",
     "text": [
      "this is a string 2 3.141592\n"
     ]
    }
   ],
   "source": [
    "print(texto,numero,numero_pi)"
   ]
  },
  {
   "cell_type": "markdown",
   "metadata": {},
   "source": [
    "#### Pasamos las Variables a una [lista] y la iteeramos con un for loop\n",
    "#### para que haga una serie de acciones sobre algo que le pedimos trabajar\n",
    "#### en este caso preguntarle la variable dentro de la lista, imprimirla y ver sus builtin functions"
   ]
  },
  {
   "cell_type": "code",
   "execution_count": 4,
   "metadata": {},
   "outputs": [
    {
     "name": "stdout",
     "output_type": "stream",
     "text": [
      "La variable de la lista es  this is a string \n",
      "y sus builtin functions son ['__add__', '__class__', '__contains__', '__delattr__', '__dir__', '__doc__', '__eq__', '__format__', '__ge__', '__getattribute__', '__getitem__', '__getnewargs__', '__gt__', '__hash__', '__init__', '__init_subclass__', '__iter__', '__le__', '__len__', '__lt__', '__mod__', '__mul__', '__ne__', '__new__', '__reduce__', '__reduce_ex__', '__repr__', '__rmod__', '__rmul__', '__setattr__', '__sizeof__', '__str__', '__subclasshook__', 'capitalize', 'casefold', 'center', 'count', 'encode', 'endswith', 'expandtabs', 'find', 'format', 'format_map', 'index', 'isalnum', 'isalpha', 'isascii', 'isdecimal', 'isdigit', 'isidentifier', 'islower', 'isnumeric', 'isprintable', 'isspace', 'istitle', 'isupper', 'join', 'ljust', 'lower', 'lstrip', 'maketrans', 'partition', 'removeprefix', 'removesuffix', 'replace', 'rfind', 'rindex', 'rjust', 'rpartition', 'rsplit', 'rstrip', 'split', 'splitlines', 'startswith', 'strip', 'swapcase', 'title', 'translate', 'upper', 'zfill']\n",
      "La variable de la lista es  2 \n",
      "y sus builtin functions son ['__abs__', '__add__', '__and__', '__bool__', '__ceil__', '__class__', '__delattr__', '__dir__', '__divmod__', '__doc__', '__eq__', '__float__', '__floor__', '__floordiv__', '__format__', '__ge__', '__getattribute__', '__getnewargs__', '__gt__', '__hash__', '__index__', '__init__', '__init_subclass__', '__int__', '__invert__', '__le__', '__lshift__', '__lt__', '__mod__', '__mul__', '__ne__', '__neg__', '__new__', '__or__', '__pos__', '__pow__', '__radd__', '__rand__', '__rdivmod__', '__reduce__', '__reduce_ex__', '__repr__', '__rfloordiv__', '__rlshift__', '__rmod__', '__rmul__', '__ror__', '__round__', '__rpow__', '__rrshift__', '__rshift__', '__rsub__', '__rtruediv__', '__rxor__', '__setattr__', '__sizeof__', '__str__', '__sub__', '__subclasshook__', '__truediv__', '__trunc__', '__xor__', 'as_integer_ratio', 'bit_length', 'conjugate', 'denominator', 'from_bytes', 'imag', 'numerator', 'real', 'to_bytes']\n",
      "La variable de la lista es  3.141592 \n",
      "y sus builtin functions son ['__abs__', '__add__', '__bool__', '__ceil__', '__class__', '__delattr__', '__dir__', '__divmod__', '__doc__', '__eq__', '__float__', '__floor__', '__floordiv__', '__format__', '__ge__', '__getattribute__', '__getformat__', '__getnewargs__', '__gt__', '__hash__', '__init__', '__init_subclass__', '__int__', '__le__', '__lt__', '__mod__', '__mul__', '__ne__', '__neg__', '__new__', '__pos__', '__pow__', '__radd__', '__rdivmod__', '__reduce__', '__reduce_ex__', '__repr__', '__rfloordiv__', '__rmod__', '__rmul__', '__round__', '__rpow__', '__rsub__', '__rtruediv__', '__setattr__', '__setformat__', '__sizeof__', '__str__', '__sub__', '__subclasshook__', '__truediv__', '__trunc__', 'as_integer_ratio', 'conjugate', 'fromhex', 'hex', 'imag', 'is_integer', 'real']\n"
     ]
    }
   ],
   "source": [
    "lista = [texto,numero,numero_pi]\n",
    "\n",
    "for i in range(len(lista)):\n",
    "    print(\"La variable de la lista es \",lista[i], \"\\ny sus builtin functions son\", dir(lista[i]))"
   ]
  },
  {
   "cell_type": "markdown",
   "metadata": {},
   "source": [
    "# Operadores Basicos\n",
    "\n",
    "# Creamos variables a y b iguales a 2 y 4\n",
    "\n",
    "##### a, b = 2, 4\n",
    "##### Suma           => a +  b\n",
    "##### Resta          => a -  b\n",
    "##### Multiplicar    => a *  b\n",
    "##### División       => a /  b \n",
    "##### Modulo         => a % b\n",
    "##### Exponencial    => a ** b\n",
    "##### Raiz Cuadrada  => a ** 1/b  # *si, asi de facil, es matematica*\n",
    "\n",
    "###### -------------------------------------------------------------------\n",
    "###### -------------------------------------------------------------------\n",
    "\n",
    "# Operadores Lógicos. Usados para comparar datos \n",
    "# la respuesta sera booleana (verdadero o falso)\n",
    "##### Igualdad, a == b, *sí a es igual a b nos va a devolver un True, sino un False*\n",
    "##### Distinto, a != b,\n",
    "##### Mayor, a > b\n",
    "##### Menor, a < b\n",
    "##### Mayor igual, a >= b\n",
    "##### Menor igual, a <= b\n"
   ]
  },
  {
   "cell_type": "markdown",
   "metadata": {},
   "source": [
    "# Ejecución Condicional"
   ]
  },
  {
   "cell_type": "code",
   "execution_count": 12,
   "metadata": {},
   "outputs": [
    {
     "name": "stdout",
     "output_type": "stream",
     "text": [
      "El valor de i menor a 3 y es:  0\n",
      "El valor de i menor a 3 y es:  1\n",
      "El valor de i menor a 3 y es:  2\n",
      "i esta entre el rango de 3 y 8\n",
      "i esta entre el rango de 3 y 8\n",
      "i esta entre el rango de 3 y 8\n",
      "i esta entre el rango de 3 y 8\n",
      "i esta entre el rango de 3 y 8\n",
      "8 al cuadrado es 64\n",
      "9 al cuadrado es 81\n"
     ]
    }
   ],
   "source": [
    "'''Vamos a ejecutar una secuencia del rango de 0 al 9\n",
    "creamos condiciones, (if) como primaria, (elif) como secundaria, y else para los demas casos'''\n",
    "\n",
    "for i in range(10):\n",
    "    if i < 3:\n",
    "        print('El valor de i menor a 3 y es: ', i) # comillas simples\n",
    "    elif i >=3 and i < 8:\n",
    "        print(\"i esta entre el rango de 3 y 8\") # notar print doble comillas\n",
    "    else:\n",
    "        print(f\"{i} al cuadrado es {i**2}\") #uso de print.format, {entre} va el nombre de variable a tratar\n",
    "        "
   ]
  },
  {
   "cell_type": "markdown",
   "metadata": {},
   "source": [
    "# Funciones\n",
    "### nos permite encapsular un bloque de codigo, que realizara cada vez que lo utilicemos\n",
    "### y nos devolvera lo que le pedimos al final, con la palabra clave \"return\"\n",
    "### Nos permite reutilizar nuestro codigo sin repetirnos"
   ]
  },
  {
   "cell_type": "code",
   "execution_count": 15,
   "metadata": {},
   "outputs": [],
   "source": [
    "# Funcion de Fibonacci\n",
    "\n",
    "def fibonnaci(n):\n",
    "    '''Documentamos que hace la función. Ejecución de la secuencia de Fibonacci'''\n",
    "    # Chequeamos que el número sea positivo\n",
    "    a,b = 0,1\n",
    "    if n < 0:\n",
    "        return \"No hay Fibonacci de números negativos. Intenta de nuevo\"\n",
    "    elif n == 1:\n",
    "        return 1\n",
    "    else:\n",
    "        for i in range(1,n): # Secuencia Fibonacci\n",
    "            c = a + b\n",
    "            a = b\n",
    "            b = c   \n",
    "        return b"
   ]
  },
  {
   "cell_type": "code",
   "execution_count": 16,
   "metadata": {},
   "outputs": [
    {
     "data": {
      "text/plain": [
       "34"
      ]
     },
     "execution_count": 16,
     "metadata": {},
     "output_type": "execute_result"
    }
   ],
   "source": [
    "# lo usamos\n",
    "\n",
    "fibonnaci(9)"
   ]
  },
  {
   "cell_type": "code",
   "execution_count": 18,
   "metadata": {},
   "outputs": [
    {
     "data": {
      "text/plain": [
       "('No hay Fibonacci de números negativos. Intenta de nuevo', 1, 832040)"
      ]
     },
     "execution_count": 18,
     "metadata": {},
     "output_type": "execute_result"
    }
   ],
   "source": [
    "# Reutilizamos\n",
    "fibonnaci(-1), fibonnaci(1), fibonnaci(30)"
   ]
  },
  {
   "cell_type": "code",
   "execution_count": 19,
   "metadata": {},
   "outputs": [
    {
     "data": {
      "text/plain": [
       "55"
      ]
     },
     "execution_count": 19,
     "metadata": {},
     "output_type": "execute_result"
    }
   ],
   "source": [
    "fibonnaci(10)"
   ]
  },
  {
   "cell_type": "markdown",
   "metadata": {},
   "source": [
    "# Estructuras de Datos\n",
    "\n",
    "# [Lists], {Dictionaries} y (tuples)\n",
    "\n"
   ]
  },
  {
   "cell_type": "markdown",
   "metadata": {},
   "source": [
    "# Nos permiten almacenar información de distintas formas\n",
    "\n"
   ]
  }
 ],
 "metadata": {
  "kernelspec": {
   "display_name": "Python 3 (ipykernel)",
   "language": "python",
   "name": "python3"
  },
  "language_info": {
   "codemirror_mode": {
    "name": "ipython",
    "version": 3
   },
   "file_extension": ".py",
   "mimetype": "text/x-python",
   "name": "python",
   "nbconvert_exporter": "python",
   "pygments_lexer": "ipython3",
   "version": "3.11.5"
  },
  "vscode": {
   "interpreter": {
    "hash": "220f1ee985561bbe10475f2e98f93cb1078a5d43d8a61b38cc246abb759fe5d0"
   }
  }
 },
 "nbformat": 4,
 "nbformat_minor": 4
}
